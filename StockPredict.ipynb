{
  "nbformat": 4,
  "nbformat_minor": 0,
  "metadata": {
    "colab": {
      "name": "StockPredict.ipynb",
      "provenance": [],
      "collapsed_sections": [],
      "authorship_tag": "ABX9TyOqFRB0Q+wJuJ2bA/5VqC+I",
      "include_colab_link": true
    },
    "kernelspec": {
      "name": "python3",
      "display_name": "Python 3"
    }
  },
  "cells": [
    {
      "cell_type": "markdown",
      "metadata": {
        "id": "view-in-github",
        "colab_type": "text"
      },
      "source": [
        "<a href=\"https://colab.research.google.com/github/TimManh/Android_6_months/blob/master/StockPredict.ipynb\" target=\"_parent\"><img src=\"https://colab.research.google.com/assets/colab-badge.svg\" alt=\"Open In Colab\"/></a>"
      ]
    },
    {
      "cell_type": "code",
      "metadata": {
        "id": "anWsz9XLL2fs",
        "colab_type": "code",
        "colab": {}
      },
      "source": [
        "#Desc : this program uses an artificial recurrent neural network called LSTM\n",
        "#       to predict the closing stock price of a corporation(AAPL) using the past 60 days stock price"
      ],
      "execution_count": 0,
      "outputs": []
    },
    {
      "cell_type": "code",
      "metadata": {
        "id": "StchhFDJMRW_",
        "colab_type": "code",
        "outputId": "715b7883-da07-484d-b114-a3d9fd024231",
        "colab": {
          "base_uri": "https://localhost:8080/",
          "height": 92
        }
      },
      "source": [
        "#Import the librarise\n",
        "import math\n",
        "import pandas_datareader as web\n",
        "import numpy as np\n",
        "import pandas as pd\n",
        "from sklearn.preprocessing import MinMaxScaler\n",
        "from keras.models import Sequential\n",
        "from keras.layers import Dense, LSTM\n",
        "import matplotlib.pyplot as plt\n",
        "plt.style.use('fivethirtyeight')"
      ],
      "execution_count": 2,
      "outputs": [
        {
          "output_type": "stream",
          "text": [
            "/usr/local/lib/python3.6/dist-packages/pandas_datareader/compat/__init__.py:7: FutureWarning: pandas.util.testing is deprecated. Use the functions in the public API at pandas.testing instead.\n",
            "  from pandas.util.testing import assert_frame_equal\n",
            "Using TensorFlow backend.\n"
          ],
          "name": "stderr"
        }
      ]
    },
    {
      "cell_type": "code",
      "metadata": {
        "id": "3oJ1bXWKNTyi",
        "colab_type": "code",
        "outputId": "2784e816-15ca-4911-bfef-2cbad6142237",
        "colab": {
          "base_uri": "https://localhost:8080/",
          "height": 455
        }
      },
      "source": [
        "#Get the stock quote\n",
        "df = web.DataReader('SCO', data_source='yahoo', start='2012-01-01', end = '2020-05-20')\n",
        "#Show the Data\n",
        "df"
      ],
      "execution_count": 3,
      "outputs": [
        {
          "output_type": "execute_result",
          "data": {
            "text/html": [
              "<div>\n",
              "<style scoped>\n",
              "    .dataframe tbody tr th:only-of-type {\n",
              "        vertical-align: middle;\n",
              "    }\n",
              "\n",
              "    .dataframe tbody tr th {\n",
              "        vertical-align: top;\n",
              "    }\n",
              "\n",
              "    .dataframe thead th {\n",
              "        text-align: right;\n",
              "    }\n",
              "</style>\n",
              "<table border=\"1\" class=\"dataframe\">\n",
              "  <thead>\n",
              "    <tr style=\"text-align: right;\">\n",
              "      <th></th>\n",
              "      <th>High</th>\n",
              "      <th>Low</th>\n",
              "      <th>Open</th>\n",
              "      <th>Close</th>\n",
              "      <th>Volume</th>\n",
              "      <th>Adj Close</th>\n",
              "    </tr>\n",
              "    <tr>\n",
              "      <th>Date</th>\n",
              "      <th></th>\n",
              "      <th></th>\n",
              "      <th></th>\n",
              "      <th></th>\n",
              "      <th></th>\n",
              "      <th></th>\n",
              "    </tr>\n",
              "  </thead>\n",
              "  <tbody>\n",
              "    <tr>\n",
              "      <th>2012-01-03</th>\n",
              "      <td>18.230000</td>\n",
              "      <td>17.719999</td>\n",
              "      <td>18.219999</td>\n",
              "      <td>17.780001</td>\n",
              "      <td>4459400.0</td>\n",
              "      <td>17.780001</td>\n",
              "    </tr>\n",
              "    <tr>\n",
              "      <th>2012-01-04</th>\n",
              "      <td>18.040001</td>\n",
              "      <td>17.535000</td>\n",
              "      <td>17.945000</td>\n",
              "      <td>17.695000</td>\n",
              "      <td>3283800.0</td>\n",
              "      <td>17.695000</td>\n",
              "    </tr>\n",
              "    <tr>\n",
              "      <th>2012-01-05</th>\n",
              "      <td>18.270000</td>\n",
              "      <td>17.625000</td>\n",
              "      <td>17.950001</td>\n",
              "      <td>18.184999</td>\n",
              "      <td>4008800.0</td>\n",
              "      <td>18.184999</td>\n",
              "    </tr>\n",
              "    <tr>\n",
              "      <th>2012-01-06</th>\n",
              "      <td>18.490000</td>\n",
              "      <td>18.020000</td>\n",
              "      <td>18.020000</td>\n",
              "      <td>18.135000</td>\n",
              "      <td>2486400.0</td>\n",
              "      <td>18.135000</td>\n",
              "    </tr>\n",
              "    <tr>\n",
              "      <th>2012-01-09</th>\n",
              "      <td>18.754999</td>\n",
              "      <td>18.245001</td>\n",
              "      <td>18.270000</td>\n",
              "      <td>18.285000</td>\n",
              "      <td>2245400.0</td>\n",
              "      <td>18.285000</td>\n",
              "    </tr>\n",
              "    <tr>\n",
              "      <th>...</th>\n",
              "      <td>...</td>\n",
              "      <td>...</td>\n",
              "      <td>...</td>\n",
              "      <td>...</td>\n",
              "      <td>...</td>\n",
              "      <td>...</td>\n",
              "    </tr>\n",
              "    <tr>\n",
              "      <th>2020-05-14</th>\n",
              "      <td>39.099998</td>\n",
              "      <td>34.660000</td>\n",
              "      <td>38.599998</td>\n",
              "      <td>35.610001</td>\n",
              "      <td>5297700.0</td>\n",
              "      <td>35.610001</td>\n",
              "    </tr>\n",
              "    <tr>\n",
              "      <th>2020-05-15</th>\n",
              "      <td>35.070000</td>\n",
              "      <td>32.380001</td>\n",
              "      <td>34.189999</td>\n",
              "      <td>32.650002</td>\n",
              "      <td>5052100.0</td>\n",
              "      <td>32.650002</td>\n",
              "    </tr>\n",
              "    <tr>\n",
              "      <th>2020-05-18</th>\n",
              "      <td>29.120001</td>\n",
              "      <td>26.350000</td>\n",
              "      <td>28.080000</td>\n",
              "      <td>27.750000</td>\n",
              "      <td>6649800.0</td>\n",
              "      <td>27.750000</td>\n",
              "    </tr>\n",
              "    <tr>\n",
              "      <th>2020-05-19</th>\n",
              "      <td>28.930000</td>\n",
              "      <td>27.299999</td>\n",
              "      <td>27.610001</td>\n",
              "      <td>28.080000</td>\n",
              "      <td>4959500.0</td>\n",
              "      <td>28.080000</td>\n",
              "    </tr>\n",
              "    <tr>\n",
              "      <th>2020-05-20</th>\n",
              "      <td>26.980000</td>\n",
              "      <td>25.469999</td>\n",
              "      <td>26.780001</td>\n",
              "      <td>25.650000</td>\n",
              "      <td>6434300.0</td>\n",
              "      <td>25.650000</td>\n",
              "    </tr>\n",
              "  </tbody>\n",
              "</table>\n",
              "<p>2109 rows × 6 columns</p>\n",
              "</div>"
            ],
            "text/plain": [
              "                 High        Low       Open      Close     Volume  Adj Close\n",
              "Date                                                                        \n",
              "2012-01-03  18.230000  17.719999  18.219999  17.780001  4459400.0  17.780001\n",
              "2012-01-04  18.040001  17.535000  17.945000  17.695000  3283800.0  17.695000\n",
              "2012-01-05  18.270000  17.625000  17.950001  18.184999  4008800.0  18.184999\n",
              "2012-01-06  18.490000  18.020000  18.020000  18.135000  2486400.0  18.135000\n",
              "2012-01-09  18.754999  18.245001  18.270000  18.285000  2245400.0  18.285000\n",
              "...               ...        ...        ...        ...        ...        ...\n",
              "2020-05-14  39.099998  34.660000  38.599998  35.610001  5297700.0  35.610001\n",
              "2020-05-15  35.070000  32.380001  34.189999  32.650002  5052100.0  32.650002\n",
              "2020-05-18  29.120001  26.350000  28.080000  27.750000  6649800.0  27.750000\n",
              "2020-05-19  28.930000  27.299999  27.610001  28.080000  4959500.0  28.080000\n",
              "2020-05-20  26.980000  25.469999  26.780001  25.650000  6434300.0  25.650000\n",
              "\n",
              "[2109 rows x 6 columns]"
            ]
          },
          "metadata": {
            "tags": []
          },
          "execution_count": 3
        }
      ]
    },
    {
      "cell_type": "code",
      "metadata": {
        "id": "i3zHSg5KN0L_",
        "colab_type": "code",
        "outputId": "486510dd-4368-406b-96a7-b9badd283418",
        "colab": {
          "base_uri": "https://localhost:8080/",
          "height": 35
        }
      },
      "source": [
        "#Get the number of rows and columns in the data set\n",
        "df.shape"
      ],
      "execution_count": 4,
      "outputs": [
        {
          "output_type": "execute_result",
          "data": {
            "text/plain": [
              "(2109, 6)"
            ]
          },
          "metadata": {
            "tags": []
          },
          "execution_count": 4
        }
      ]
    },
    {
      "cell_type": "code",
      "metadata": {
        "id": "riBthvP6Oj6Z",
        "colab_type": "code",
        "outputId": "4799e405-f1a1-4578-e151-c889253439d0",
        "colab": {
          "base_uri": "https://localhost:8080/",
          "height": 558
        }
      },
      "source": [
        "#Visualize the closing price history\n",
        "plt.figure(figsize=(16,8))\n",
        "plt.title('Close price history')\n",
        "plt.plot(df['Open'])\n",
        "plt.xlabel('Date', fontsize = 18)\n",
        "plt.ylabel('Close Price USD($)', fontsize=18)\n",
        "plt.show()"
      ],
      "execution_count": 5,
      "outputs": [
        {
          "output_type": "display_data",
          "data": {
            "image/png": "[encoded data removed]",
            "text/plain": [
              "<Figure size 1152x576 with 1 Axes>"
            ]
          },
          "metadata": {
            "tags": []
          }
        }
      ]
    },
    {
      "cell_type": "code",
      "metadata": {
        "id": "p88vpXMgPnKz",
        "colab_type": "code",
        "outputId": "2f7d2ed6-d4b5-4ba5-8450-6fa89dafd8e4",
        "colab": {
          "base_uri": "https://localhost:8080/",
          "height": 35
        }
      },
      "source": [
        "#Create a new dataframe with only the 'Close column'\n",
        "data = df.filter(['Open'])\n",
        "#Convert the dataframe to a numpy array\n",
        "dataset = data.values\n",
        "#Get the number of rows to train the model on\n",
        "training_data_len = math.ceil(len(dataset)*.8)\n",
        "\n",
        "training_data_len"
      ],
      "execution_count": 6,
      "outputs": [
        {
          "output_type": "execute_result",
          "data": {
            "text/plain": [
              "1688"
            ]
          },
          "metadata": {
            "tags": []
          },
          "execution_count": 6
        }
      ]
    },
    {
      "cell_type": "code",
      "metadata": {
        "id": "aQnCTGF1Q09c",
        "colab_type": "code",
        "outputId": "8609a1b8-2f72-4e07-db2f-82b34a35dc0b",
        "colab": {
          "base_uri": "https://localhost:8080/",
          "height": 146
        }
      },
      "source": [
        "#Scale the data\n",
        "scaler = MinMaxScaler(feature_range=(0,1))\n",
        "scaled_data = scaler.fit_transform(dataset)\n",
        "\n",
        "scaled_data"
      ],
      "execution_count": 7,
      "outputs": [
        {
          "output_type": "execute_result",
          "data": {
            "text/plain": [
              "array([[0.06599605],\n",
              "       [0.06341074],\n",
              "       [0.06345775],\n",
              "       ...,\n",
              "       [0.15869136],\n",
              "       [0.15427283],\n",
              "       [0.14646988]])"
            ]
          },
          "metadata": {
            "tags": []
          },
          "execution_count": 7
        }
      ]
    },
    {
      "cell_type": "code",
      "metadata": {
        "id": "qhIJW3QMRS9k",
        "colab_type": "code",
        "outputId": "88647957-da29-465c-b30a-687311c69703",
        "colab": {
          "base_uri": "https://localhost:8080/",
          "height": 733
        }
      },
      "source": [
        "#Create the training data set\n",
        "#Create the scaled training data set\n",
        "train_data = scaled_data[0:training_data_len,:]\n",
        "#Split the data into x_train and y_train data sets\n",
        "x_train = []\n",
        "y_train = []\n",
        "\n",
        "for i in range(60,len(train_data)):\n",
        "  x_train.append(train_data[i-60:i, 0])\n",
        "  y_train.append(train_data[i,0])\n",
        "  if i<=61:\n",
        "    print(x_train)\n",
        "    print(y_train)\n",
        "    print()\n"
      ],
      "execution_count": 8,
      "outputs": [
        {
          "output_type": "stream",
          "text": [
            "[array([0.06599605, 0.06341074, 0.06345775, 0.06411583, 0.06646612,\n",
            "       0.06223559, 0.06632509, 0.06439785, 0.07699539, 0.07050861,\n",
            "       0.06773527, 0.06590203, 0.07417505, 0.07539719, 0.07732443,\n",
            "       0.07699539, 0.06660713, 0.07281188, 0.07591426, 0.0672652 ,\n",
            "       0.07412804, 0.08324716, 0.08249507, 0.08131993, 0.08404625,\n",
            "       0.07121369, 0.07102566, 0.07859359, 0.0697095 , 0.06505595,\n",
            "       0.06510294, 0.06533797, 0.05950927, 0.05603084, 0.05283444,\n",
            "       0.05227038, 0.04474946, 0.04493748, 0.04597161, 0.04977908,\n",
            "       0.04752279, 0.04630065, 0.04865094, 0.05471468, 0.05518473,\n",
            "       0.05001411, 0.04902699, 0.05109524, 0.0508132 , 0.05015512,\n",
            "       0.05212937, 0.05170632, 0.0459246 , 0.04874495, 0.05062517,\n",
            "       0.05518473, 0.05269343, 0.04902699, 0.04775783, 0.05306947])]\n",
            "[0.05391557453085827]\n",
            "\n",
            "[array([0.06599605, 0.06341074, 0.06345775, 0.06411583, 0.06646612,\n",
            "       0.06223559, 0.06632509, 0.06439785, 0.07699539, 0.07050861,\n",
            "       0.06773527, 0.06590203, 0.07417505, 0.07539719, 0.07732443,\n",
            "       0.07699539, 0.06660713, 0.07281188, 0.07591426, 0.0672652 ,\n",
            "       0.07412804, 0.08324716, 0.08249507, 0.08131993, 0.08404625,\n",
            "       0.07121369, 0.07102566, 0.07859359, 0.0697095 , 0.06505595,\n",
            "       0.06510294, 0.06533797, 0.05950927, 0.05603084, 0.05283444,\n",
            "       0.05227038, 0.04474946, 0.04493748, 0.04597161, 0.04977908,\n",
            "       0.04752279, 0.04630065, 0.04865094, 0.05471468, 0.05518473,\n",
            "       0.05001411, 0.04902699, 0.05109524, 0.0508132 , 0.05015512,\n",
            "       0.05212937, 0.05170632, 0.0459246 , 0.04874495, 0.05062517,\n",
            "       0.05518473, 0.05269343, 0.04902699, 0.04775783, 0.05306947]), array([0.06341074, 0.06345775, 0.06411583, 0.06646612, 0.06223559,\n",
            "       0.06632509, 0.06439785, 0.07699539, 0.07050861, 0.06773527,\n",
            "       0.06590203, 0.07417505, 0.07539719, 0.07732443, 0.07699539,\n",
            "       0.06660713, 0.07281188, 0.07591426, 0.0672652 , 0.07412804,\n",
            "       0.08324716, 0.08249507, 0.08131993, 0.08404625, 0.07121369,\n",
            "       0.07102566, 0.07859359, 0.0697095 , 0.06505595, 0.06510294,\n",
            "       0.06533797, 0.05950927, 0.05603084, 0.05283444, 0.05227038,\n",
            "       0.04474946, 0.04493748, 0.04597161, 0.04977908, 0.04752279,\n",
            "       0.04630065, 0.04865094, 0.05471468, 0.05518473, 0.05001411,\n",
            "       0.04902699, 0.05109524, 0.0508132 , 0.05015512, 0.05212937,\n",
            "       0.05170632, 0.0459246 , 0.04874495, 0.05062517, 0.05518473,\n",
            "       0.05269343, 0.04902699, 0.04775783, 0.05306947, 0.05391557])]\n",
            "[0.05391557453085827, 0.05903920033588128]\n",
            "\n"
          ],
          "name": "stdout"
        }
      ]
    },
    {
      "cell_type": "code",
      "metadata": {
        "id": "uglarOEFSxeb",
        "colab_type": "code",
        "colab": {}
      },
      "source": [
        "#Convert the x_train and y_train to numpy arrays\n",
        "x_train, y_train = np.array(x_train), np.array(y_train)\n"
      ],
      "execution_count": 0,
      "outputs": []
    },
    {
      "cell_type": "code",
      "metadata": {
        "id": "PLFGkgqYTaKM",
        "colab_type": "code",
        "outputId": "6b80818f-d2a6-409e-b4e9-78fdbf3c13eb",
        "colab": {
          "base_uri": "https://localhost:8080/",
          "height": 35
        }
      },
      "source": [
        "#Reshape the data\n",
        "x_train = np.reshape(x_train, (x_train.shape[0],x_train.shape[1],1))\n",
        "x_train.shape\n"
      ],
      "execution_count": 10,
      "outputs": [
        {
          "output_type": "execute_result",
          "data": {
            "text/plain": [
              "(1628, 60, 1)"
            ]
          },
          "metadata": {
            "tags": []
          },
          "execution_count": 10
        }
      ]
    },
    {
      "cell_type": "code",
      "metadata": {
        "id": "QC3JZJlmTpfs",
        "colab_type": "code",
        "colab": {}
      },
      "source": [
        "#Build LSTM model\n",
        "model = Sequential()\n",
        "model.add(LSTM(50,return_sequences=True, input_shape=(x_train.shape[1],1)))\n",
        "model.add(LSTM(50,return_sequences=False))\n",
        "model.add(Dense(25))\n",
        "model.add(Dense(1))"
      ],
      "execution_count": 0,
      "outputs": []
    },
    {
      "cell_type": "code",
      "metadata": {
        "id": "7CVxwfrsUL4b",
        "colab_type": "code",
        "colab": {}
      },
      "source": [
        "#Compile the model\n",
        "model.compile(optimizer='adam', loss='mean_squared_error')"
      ],
      "execution_count": 0,
      "outputs": []
    },
    {
      "cell_type": "code",
      "metadata": {
        "id": "S6e3j2UeUjVp",
        "colab_type": "code",
        "outputId": "a21c7915-0ebe-4cbd-8fba-f68468696ac9",
        "colab": {
          "base_uri": "https://localhost:8080/",
          "height": 54
        }
      },
      "source": [
        "#Train the model\n",
        "model.fit(x_train,y_train,batch_size=1,epochs=1)"
      ],
      "execution_count": 0,
      "outputs": [
        {
          "output_type": "stream",
          "text": [
            "Epoch 1/1\n",
            "1250/1628 [======================>.......] - ETA: 13s - loss: 0.0026"
          ],
          "name": "stdout"
        }
      ]
    },
    {
      "cell_type": "code",
      "metadata": {
        "id": "-0sASAnPVApL",
        "colab_type": "code",
        "colab": {}
      },
      "source": [
        "#Create the testing data set\n",
        "#Create a new array containing scaled values from index 1543 to 2003\n",
        "test_data = scaled_data[training_data_len - 60: , :]\n",
        "#Create the data sets x_test and y_test\n",
        "x_test = []\n",
        "y_test = dataset[training_data_len:, :]\n",
        "for i in range(60,len(test_data)):\n",
        "  x_test.append(test_data[i-60:i,0])\n"
      ],
      "execution_count": 0,
      "outputs": []
    },
    {
      "cell_type": "code",
      "metadata": {
        "id": "UuDJZUsyWnIV",
        "colab_type": "code",
        "colab": {}
      },
      "source": [
        "#Convert the data to numpy array\n",
        "x_test = np.array(x_test)"
      ],
      "execution_count": 0,
      "outputs": []
    },
    {
      "cell_type": "code",
      "metadata": {
        "id": "g1JeGfQoWvxj",
        "colab_type": "code",
        "colab": {}
      },
      "source": [
        "#Reshape the data\n",
        "x_test = np.reshape(x_test,(x_test.shape[0],x_test.shape[1],1))\n"
      ],
      "execution_count": 0,
      "outputs": []
    },
    {
      "cell_type": "code",
      "metadata": {
        "id": "MoHM5Qs_XjwC",
        "colab_type": "code",
        "colab": {}
      },
      "source": [
        "#Get the models predicted price values\n",
        "prediction = model.predict(x_test)\n",
        "prediction = scaler.inverse_transform(prediction)"
      ],
      "execution_count": 0,
      "outputs": []
    },
    {
      "cell_type": "code",
      "metadata": {
        "id": "7v-proRMX9UG",
        "colab_type": "code",
        "colab": {}
      },
      "source": [
        "#Get the root mean squared error (RMSE)\n",
        "rmse = np.sqrt(np.mean(prediction-y_test)**2)\n",
        "rmse"
      ],
      "execution_count": 0,
      "outputs": []
    },
    {
      "cell_type": "code",
      "metadata": {
        "id": "OJ8xPhRuYU0d",
        "colab_type": "code",
        "colab": {}
      },
      "source": [
        "#Plot the data\n",
        "train = data[:training_data_len]\n",
        "valid = data[training_data_len:]\n",
        "valid['Prediction'] = prediction\n",
        "#Visualize the data\n",
        "plt.figure(figsize=(16,8))\n",
        "plt.title('Model')\n",
        "plt.xlabel('Date', fontsize = 18)\n",
        "plt.ylabel('Close Price USD ($)', fontsize = 18)\n",
        "plt.plot(train['Open'])\n",
        "plt.plot(valid[['Open', 'Prediction']])\n",
        "plt.legend(['Train', 'Val','Prediction'], loc='lower right')\n",
        "plt.show()"
      ],
      "execution_count": 0,
      "outputs": []
    },
    {
      "cell_type": "code",
      "metadata": {
        "id": "Q307k23EZ0dx",
        "colab_type": "code",
        "colab": {}
      },
      "source": [
        "#Show the valid and predicted prices\n",
        "valid"
      ],
      "execution_count": 0,
      "outputs": []
    },
    {
      "cell_type": "code",
      "metadata": {
        "id": "nX0P-S8QaGwH",
        "colab_type": "code",
        "colab": {}
      },
      "source": [
        "#Get the quote\n",
        "apple_quote = web.DataReader('SCO',data_source='yahoo',start='2012-01-01', end='2020-05-20')\n",
        "#Create a new dataframe\n",
        "new_df = apple_quote.filter(['Open'])\n",
        "#Get the last 60 day closing price values and convert the data frame to an array\n",
        "last_60_days = new_df[-60:].values\n",
        "#Scale the data to be values\n",
        "last_60_days_scaled = scaler.transform(last_60_days)\n",
        "#Create an empty list\n",
        "X_test = []\n",
        "#Append the past 60 days\n",
        "X_test.append(last_60_days_scaled)\n",
        "#Convert the X_test data sset to a numpy array\n",
        "X_test = np.array(X_test)\n",
        "#Reshape the data\n",
        "X_test = np.reshape(X_test,(X_test.shape[0],X_test.shape[1],1))\n",
        "#Get the predicted scaled price\n",
        "pred_price = model.predict(X_test)\n",
        "#undo the scaling\n",
        "pred_price = scaler.inverse_transform(pred_price)\n",
        "print(pred_price)"
      ],
      "execution_count": 0,
      "outputs": []
    },
    {
      "cell_type": "code",
      "metadata": {
        "id": "taYZdMKIdWsZ",
        "colab_type": "code",
        "colab": {}
      },
      "source": [
        "apple_quote2 = web.DataReader('SCO',data_source='yahoo',start='2020-05-21', end='2020-05-21')\n",
        "print(apple_quote2['Close'])"
      ],
      "execution_count": 0,
      "outputs": []
    }
  ]
}